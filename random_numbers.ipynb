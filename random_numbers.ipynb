{
 "cells": [
  {
   "cell_type": "code",
   "execution_count": 1,
   "id": "ef70dabe",
   "metadata": {},
   "outputs": [],
   "source": [
    "# Import the random module.\n",
    "import random"
   ]
  },
  {
   "cell_type": "code",
   "execution_count": 3,
   "id": "57034c37",
   "metadata": {},
   "outputs": [
    {
     "data": {
      "text/plain": [
       "-67"
      ]
     },
     "execution_count": 3,
     "metadata": {},
     "output_type": "execute_result"
    }
   ],
   "source": [
    "random.randint(-90, 90)"
   ]
  },
  {
   "cell_type": "code",
   "execution_count": 5,
   "id": "e58ad722",
   "metadata": {},
   "outputs": [
    {
     "data": {
      "text/plain": [
       "[25.136969953991944,\n",
       " -34.44081648275672,\n",
       " 32.05765931651556,\n",
       " 58.613140620923325,\n",
       " -9.348942273641615,\n",
       " 30.476083808784054,\n",
       " -59.24923180387332,\n",
       " 23.444759875090593,\n",
       " 49.90905774451017,\n",
       " 73.2940682657947]"
      ]
     },
     "execution_count": 5,
     "metadata": {},
     "output_type": "execute_result"
    }
   ],
   "source": [
    "x = 1\n",
    "latitudes = []\n",
    "while x < 11:\n",
    "    random_lat = random.randint(-90, 89) + random.random()\n",
    "    latitudes.append(random_lat)\n",
    "    x += 1\n",
    "\n",
    "latitudes"
   ]
  },
  {
   "cell_type": "code",
   "execution_count": 6,
   "id": "8b47e043",
   "metadata": {},
   "outputs": [
    {
     "data": {
      "text/plain": [
       "-14"
      ]
     },
     "execution_count": 6,
     "metadata": {},
     "output_type": "execute_result"
    }
   ],
   "source": [
    "random.randrange(-90, 90, step=1)"
   ]
  },
  {
   "cell_type": "code",
   "execution_count": 7,
   "id": "e1453af4",
   "metadata": {},
   "outputs": [
    {
     "data": {
      "text/plain": [
       "array([-52.8113653 ,  87.30500647, -69.63997815, -12.05296525,\n",
       "       -75.12151062,  73.85297287,  48.31806195,  72.21426137,\n",
       "       -36.98102666,  87.94544975,  -0.42854787, -30.51340615,\n",
       "       -36.25377811,  85.2520767 ,  35.86367852,  76.02321287,\n",
       "       -14.8964483 ,  14.01346372,  69.13169457,  75.20301836,\n",
       "       -69.5957904 ,  89.13324717,  13.65114935,  65.80432036,\n",
       "        68.41145995,  38.07054867,  14.37313231,  -5.06827149,\n",
       "         1.54945576, -89.4536922 , -36.69267399, -56.72090647,\n",
       "       -76.9791968 , -55.92701476,   4.21116442,  18.24211253,\n",
       "        79.96635501,  50.29687913,  68.39255028,  31.51957515,\n",
       "        81.32716583, -31.31761652,  12.45371258,  73.35950386,\n",
       "       -20.47770383,  45.23058648, -37.94844776,  15.44964415,\n",
       "        11.87227144, -12.41376473])"
      ]
     },
     "execution_count": 7,
     "metadata": {},
     "output_type": "execute_result"
    }
   ],
   "source": [
    "# Import the NumPy module.\n",
    "import numpy as np\n",
    "np.random.uniform(-90.000, 90.000, size=50)"
   ]
  },
  {
   "cell_type": "code",
   "execution_count": 8,
   "id": "4f847a12",
   "metadata": {},
   "outputs": [
    {
     "name": "stdout",
     "output_type": "stream",
     "text": [
      "18.4 µs ± 674 ns per loop (mean ± std. dev. of 7 runs, 100000 loops each)\n"
     ]
    }
   ],
   "source": [
    "# Import timeit.\n",
    "import timeit\n",
    "%timeit np.random.uniform(-90.000, 90.000, size=1500)"
   ]
  },
  {
   "cell_type": "code",
   "execution_count": 9,
   "id": "664e314f",
   "metadata": {},
   "outputs": [
    {
     "name": "stdout",
     "output_type": "stream",
     "text": [
      "1.83 ms ± 124 µs per loop (mean ± std. dev. of 7 runs, 1000 loops each)\n"
     ]
    }
   ],
   "source": [
    "def latitudes(size):\n",
    "    latitudes = []\n",
    "    x = 0\n",
    "    while x < (size):\n",
    "        random_lat = random.randint(-90, 90) + random.random()\n",
    "        latitudes.append(random_lat)\n",
    "        x += 1\n",
    "    return latitudes\n",
    "# Call the function with 1500.\n",
    "%timeit latitudes(1500)"
   ]
  },
  {
   "cell_type": "code",
   "execution_count": null,
   "id": "8b617e01",
   "metadata": {},
   "outputs": [],
   "source": []
  }
 ],
 "metadata": {
  "kernelspec": {
   "display_name": "Python 3",
   "language": "python",
   "name": "python3"
  },
  "language_info": {
   "codemirror_mode": {
    "name": "ipython",
    "version": 3
   },
   "file_extension": ".py",
   "mimetype": "text/x-python",
   "name": "python",
   "nbconvert_exporter": "python",
   "pygments_lexer": "ipython3",
   "version": "3.7.10"
  }
 },
 "nbformat": 4,
 "nbformat_minor": 5
}
